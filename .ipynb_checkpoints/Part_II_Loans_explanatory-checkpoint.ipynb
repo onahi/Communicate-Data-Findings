{
 "cells": [
  {
   "cell_type": "markdown",
   "id": "43abe1a2",
   "metadata": {
    "slideshow": {
     "slide_type": "slide"
    }
   },
   "source": [
    "# Exploration of Prosper Loan Dataset \n",
    "## by Paul Ajogi"
   ]
  },
  {
   "cell_type": "markdown",
   "id": "c24ed07c",
   "metadata": {
    "slideshow": {
     "slide_type": "slide"
    }
   },
   "source": [
    "## Investigation Overview\n",
    "\n",
    "This project is aimed at exploring a dataset known as the Prosper Loan Dataset. The Prosper Loan Dataset is a dataset that contains data of the loan platform known as '<a href=\"https://www.prosper.com/\">Prosper</a>'. This dataset contains information about the actual loan, the borrower (e.g Borrower's State, Occupation, Employment Status and more ) and some information about the lender/Investors e.g (Lender's Yield).  \n"
   ]
  },
  {
   "cell_type": "markdown",
   "id": "2a6bd3db",
   "metadata": {
    "slideshow": {
     "slide_type": "slide"
    }
   },
   "source": [
    "## Dataset Overview\n",
    "\n",
    "This dataset of prosper loan data contains 113937 loans with 81 variables. Majority of the variables are numerical (int and float) datatypes, while a few of them are object and boolean datatype. In Summary, the dataset contains:-\n",
    "\n",
    "* 50 float\n",
    "* 11 int\n",
    "* 17 objects and\n",
    "* 3 booleans\n",
    "\n",
    "The datasets was further sliced into a smaller dataframe called vars_of_interest containing just the variables of interest for our analysis. The vars_of_interest consists of 11 variables of which 7 are float, 1 is an int and 3 are of object type."
   ]
  },
  {
   "cell_type": "code",
   "execution_count": null,
   "id": "b0d88574",
   "metadata": {
    "slideshow": {
     "slide_type": "skip"
    }
   },
   "outputs": [],
   "source": [
    "# import all packages and set plots to be embedded inline\n",
    "import numpy as np\n",
    "import pandas as pd\n",
    "import matplotlib.pyplot as plt\n",
    "import seaborn as sb\n",
    "\n",
    "%matplotlib inline"
   ]
  },
  {
   "cell_type": "code",
   "execution_count": null,
   "id": "c0fc8649",
   "metadata": {
    "slideshow": {
     "slide_type": "skip"
    }
   },
   "outputs": [],
   "source": [
    "#load datasets into a pandas dataframe\n",
    "prosper_loan_df = pd.read_csv('prosperLoanData.csv')"
   ]
  },
  {
   "cell_type": "code",
   "execution_count": null,
   "id": "c1aaf775",
   "metadata": {
    "slideshow": {
     "slide_type": "skip"
    }
   },
   "outputs": [],
   "source": [
    "#load datasets into a pandas dataframe\n",
    "prosper_loan_df = pd.read_csv('prosperLoanData.csv')"
   ]
  },
  {
   "cell_type": "code",
   "execution_count": null,
   "id": "615efd82",
   "metadata": {
    "slideshow": {
     "slide_type": "skip"
    }
   },
   "outputs": [],
   "source": [
    "#Make a copy of the dataframe\n",
    "prosper_copy = prosper_loan_df.copy()"
   ]
  },
  {
   "cell_type": "code",
   "execution_count": null,
   "id": "53d71018",
   "metadata": {
    "slideshow": {
     "slide_type": "skip"
    }
   },
   "outputs": [],
   "source": [
    "#Change the name of ListingCategory (numeric) to ListingCategory \n",
    "prosper_copy.rename(columns = {'ListingCategory (numeric)' : 'ListingCategory'}, inplace = True)"
   ]
  },
  {
   "cell_type": "code",
   "execution_count": null,
   "id": "38eecab3",
   "metadata": {
    "slideshow": {
     "slide_type": "skip"
    }
   },
   "outputs": [],
   "source": [
    "#Change the datatype from Int to string \n",
    "prosper_copy['ListingCategory'] = prosper_copy['ListingCategory'].astype('str')"
   ]
  },
  {
   "cell_type": "code",
   "execution_count": null,
   "id": "47c1d5cd",
   "metadata": {
    "slideshow": {
     "slide_type": "skip"
    }
   },
   "outputs": [],
   "source": [
    "#Change the ListingCategories from the numeric values to their actual categories.\n",
    "\"\"\" The category of the listing the borrower selected when posting their listing 0 - Not Available\"\"\"\n",
    "\n",
    "\n",
    "prosper_copy.loc[prosper_copy['ListingCategory'] == '0', ['ListingCategory']] = \"Not Available\"\n",
    "prosper_copy.loc[prosper_copy['ListingCategory'] == '1', ['ListingCategory']] = \"Debt Consolidation\"\n",
    "prosper_copy.loc[prosper_copy['ListingCategory'] == '2', ['ListingCategory']] = \"Home Improvement\"\n",
    "prosper_copy.loc[prosper_copy['ListingCategory'] == '3', ['ListingCategory']] = \"Business\"\n",
    "prosper_copy.loc[prosper_copy['ListingCategory'] == '4', ['ListingCategory']] = \"Personal Loan\"\n",
    "prosper_copy.loc[prosper_copy['ListingCategory'] == '5', ['ListingCategory']] = \"Student Use\"\n",
    "prosper_copy.loc[prosper_copy['ListingCategory'] == '6', ['ListingCategory']] = \"Auto\"\n",
    "prosper_copy.loc[prosper_copy['ListingCategory'] == '7', ['ListingCategory']] = \"Other\"\n",
    "prosper_copy.loc[prosper_copy['ListingCategory'] == '8', ['ListingCategory']] = \"Baby&Adoption\"\n",
    "prosper_copy.loc[prosper_copy['ListingCategory'] == '9', ['ListingCategory']] = \"Boat\"\n",
    "prosper_copy.loc[prosper_copy['ListingCategory'] == '10', ['ListingCategory']] = \"Cosmetic Procedure\"\n",
    "prosper_copy.loc[prosper_copy['ListingCategory'] == '11', ['ListingCategory']] = \"Engagement Ring\"\n",
    "prosper_copy.loc[prosper_copy['ListingCategory'] == '12', ['ListingCategory']] = \"Green Loans\"\n",
    "prosper_copy.loc[prosper_copy['ListingCategory'] == '13', ['ListingCategory']] = \"Household Expenses\"\n",
    "prosper_copy.loc[prosper_copy['ListingCategory'] == '14', ['ListingCategory']] = \"Large Purchases\"\n",
    "prosper_copy.loc[prosper_copy['ListingCategory'] == '15', ['ListingCategory']] = \"Medical/Dental\"\n",
    "prosper_copy.loc[prosper_copy['ListingCategory'] == '16', ['ListingCategory']] = \"Motorcycle\"\n",
    "prosper_copy.loc[prosper_copy['ListingCategory'] == '17', ['ListingCategory']] = \"RV\"\n",
    "prosper_copy.loc[prosper_copy['ListingCategory'] == '18', ['ListingCategory']] = \"Raxes\"\n",
    "prosper_copy.loc[prosper_copy['ListingCategory'] == '19', ['ListingCategory']] = \"Vacation\"\n",
    "prosper_copy.loc[prosper_copy['ListingCategory'] == '20', ['ListingCategory']] = \"Wedding Loans\""
   ]
  },
  {
   "cell_type": "code",
   "execution_count": null,
   "id": "041567e1",
   "metadata": {
    "slideshow": {
     "slide_type": "skip"
    }
   },
   "outputs": [],
   "source": [
    "#List of variables of interest\n",
    "interest = ['LoanStatus', 'BorrowerAPR', 'BorrowerRate', 'ListingCategory', 'EmploymentStatus', 'CurrentCreditLines',\n",
    "           'OpenRevolvingAccounts', 'OpenRevolvingMonthlyPayment', 'TotalProsperLoans', 'ProsperPrincipalBorrowed', \n",
    "            'LP_InterestandFees']"
   ]
  },
  {
   "cell_type": "code",
   "execution_count": null,
   "id": "9685e975",
   "metadata": {
    "slideshow": {
     "slide_type": "skip"
    }
   },
   "outputs": [],
   "source": [
    "#Sliced Dataframe\n",
    "vars_of_interest = prosper_copy[interest]"
   ]
  },
  {
   "cell_type": "markdown",
   "id": "2b63f7f2",
   "metadata": {
    "slideshow": {
     "slide_type": "slide"
    }
   },
   "source": [
    "## Loan Status Count in percentage\n",
    "\n",
    "Close to half of the LoanStatus are Current status, majurity of the loans borrowed are still within the period of their term. The remaining half is dominated by loans that are completed, chargedoff and Defaulted with 33.417%, 10.525% and 4.404% respectively. The remaining categories, Past Due, FinalPaymentInProgress and Cancelled have the least count with their cummulative percentage not up to 2.000%."
   ]
  },
  {
   "cell_type": "code",
   "execution_count": null,
   "id": "1d979ac3",
   "metadata": {
    "slideshow": {
     "slide_type": "subslide"
    }
   },
   "outputs": [],
   "source": [
    "#Plot the bar horizontally and show the percentage beside each bar\n",
    "base_color = sb.color_palette()[0]\n",
    "order = vars_of_interest['LoanStatus'].value_counts().index\n",
    "counts = vars_of_interest['LoanStatus'].value_counts()\n",
    "\n",
    "loan_number = vars_of_interest.shape[0]\n",
    "plt.figure(figsize = [8,5]);\n",
    "\n",
    "sb.countplot(data = vars_of_interest, y = 'LoanStatus', color = base_color, order = order);\n",
    "plt.title('A bar chart showing the count of each Loan Status in percentage');\n",
    "plt.ylabel('Loan Status');\n",
    "\n",
    "for i in range(counts.shape[0]):\n",
    "    count = counts[i]\n",
    "    percentage = '{:0.3f}%'.format(100*count/loan_number)\n",
    "    plt.text(count+1, i, percentage, va = 'center');"
   ]
  },
  {
   "cell_type": "markdown",
   "id": "5da7430d",
   "metadata": {
    "slideshow": {
     "slide_type": "slide"
    }
   },
   "source": [
    "## Distribution of Borrower's Rate\n",
    "\n",
    "The Borrower Rate is seen to be unimodal and slightly scewed to the right. When the bins were adjusted, we discovered some high spikes down the right side of the distribution."
   ]
  },
  {
   "cell_type": "code",
   "execution_count": null,
   "id": "23e7626e",
   "metadata": {
    "slideshow": {
     "slide_type": "subslide"
    }
   },
   "outputs": [],
   "source": [
    "#Adjust binsize\n",
    "binsize = 0.00625\n",
    "bins = np.arange(0, vars_of_interest['BorrowerRate'].max()+binsize, binsize)\n",
    "\n",
    "plt.figure(figsize = [8, 5]);\n",
    "plt.hist(vars_of_interest['BorrowerRate'], bins = bins);\n",
    "plt.title('A histogram showing the distribution of the Borrower Rate.');\n",
    "plt.xlabel('Borrower\\'s Rate');\n",
    "plt.ylabel('Count');"
   ]
  },
  {
   "cell_type": "markdown",
   "id": "ad9af98d",
   "metadata": {
    "slideshow": {
     "slide_type": "slide"
    }
   },
   "source": [
    "## Loan Status vs Borrower's Rate\n",
    "\n",
    "The Completed, Current and FinalPaymentInProgress Status shows lower median that is below 0.2(20% Borrower's Rate) while the rest of the categories have higher median that is approximately 0.25(25% Borrower's Rate). This gives an impression that the positive outcomes of the LoanStatus (eg. Completed, FinalPaymentInProgress) are characterised with lower Borrower's Rate while the negative outcomes (e.g Defaulted, Past Due) are characterised with higher Borrower's Rate."
   ]
  },
  {
   "cell_type": "code",
   "execution_count": null,
   "id": "8332d558",
   "metadata": {
    "slideshow": {
     "slide_type": "subslide"
    }
   },
   "outputs": [],
   "source": [
    "plt.figure(figsize = [8,5])\n",
    "sb.violinplot(data = vars_of_interest, y = 'LoanStatus', x = 'BorrowerRate', color= base_color, inner = 'quartiles' );\n",
    "plt.title('A Violin plot showing the relationship between the Loan Status and Borrower\\'s Rate');\n",
    "plt.ylabel('Loan Status');\n",
    "plt.xlabel('Borrower Rate');"
   ]
  },
  {
   "cell_type": "markdown",
   "id": "289f6323",
   "metadata": {
    "slideshow": {
     "slide_type": "slide"
    }
   },
   "source": [
    "## Borrower's Rate vs Borrower's APR\n",
    "\n",
    "The scatter plot between the BorrowerRate and BorrowerAPR shows a positive corrolation between them. This indicates that, as the BorrowerRate increases the BorrowerAPR increases as well."
   ]
  },
  {
   "cell_type": "code",
   "execution_count": null,
   "id": "4c9f21db",
   "metadata": {
    "slideshow": {
     "slide_type": "subslide"
    }
   },
   "outputs": [],
   "source": [
    "plt.figure(figsize = [8,5]);\n",
    "plt.scatter(data = vars_of_interest, x = 'BorrowerRate', y = 'BorrowerAPR');\n",
    "plt.xlabel('Borrower Rate');\n",
    "plt.ylabel('Borrower Annual Percentage Rate');\n",
    "plt.title('A scatter plot showing the relationship between BorrowersRate and BorrowersAPR.');"
   ]
  },
  {
   "cell_type": "markdown",
   "id": "9351cdeb",
   "metadata": {
    "slideshow": {
     "slide_type": "slide"
    }
   },
   "source": [
    "## Borrower's Rate vs Borrower's APR by Loan Status\n",
    "\n",
    "For each category of Loan Status, the Borrower APR increases as the Borrower Rate increases. We can say that, they are positively corrolated for each category of LoanStatus."
   ]
  },
  {
   "cell_type": "code",
   "execution_count": null,
   "id": "6c00a622",
   "metadata": {
    "scrolled": true,
    "slideshow": {
     "slide_type": "subslide"
    }
   },
   "outputs": [],
   "source": [
    "g = sb.FacetGrid(data = vars_of_interest, col = 'LoanStatus', col_wrap = 4);\n",
    "g.map(plt.scatter, 'BorrowerRate', 'BorrowerAPR' );"
   ]
  },
  {
   "cell_type": "code",
   "execution_count": null,
   "id": "7d29698f",
   "metadata": {},
   "outputs": [],
   "source": [
    "!jupyter nbconvert Part_II_Loans_explanatory.ipynb --to slides --post serve --no-input --no-prompt"
   ]
  },
  {
   "cell_type": "code",
   "execution_count": null,
   "id": "5959f5fd",
   "metadata": {},
   "outputs": [],
   "source": []
  }
 ],
 "metadata": {
  "celltoolbar": "Slideshow",
  "kernelspec": {
   "display_name": "Python 3 (ipykernel)",
   "language": "python",
   "name": "python3"
  },
  "language_info": {
   "codemirror_mode": {
    "name": "ipython",
    "version": 3
   },
   "file_extension": ".py",
   "mimetype": "text/x-python",
   "name": "python",
   "nbconvert_exporter": "python",
   "pygments_lexer": "ipython3",
   "version": "3.9.12"
  }
 },
 "nbformat": 4,
 "nbformat_minor": 5
}
